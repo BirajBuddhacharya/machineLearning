{
 "cells": [
  {
   "cell_type": "code",
   "execution_count": 11,
   "metadata": {},
   "outputs": [],
   "source": [
    "from selenium import webdriver\n",
    "from selenium.webdriver.common.by import By\n",
    "from selenium.webdriver.common.keys import Keys\n",
    "from selenium.webdriver.support.ui import WebDriverWait\n",
    "import time\n",
    "from selenium.webdriver.support import expected_conditions as EC"
   ]
  },
  {
   "cell_type": "code",
   "execution_count": 17,
   "metadata": {},
   "outputs": [],
   "source": [
    "# launching chrome\n",
    "driver = webdriver.Chrome()\n",
    "\n",
    "# opening text detector\n",
    "driver.get(\"https://www.scribbr.com/ai-detector/\") # opening a webpage\n",
    "\n",
    "# navigating to text humanizer\n",
    "driver.execute_script(\"window.open('https://aitextconverter.com/', '_blank');\")\n",
    "\n"
   ]
  },
  {
   "cell_type": "code",
   "execution_count": 15,
   "metadata": {},
   "outputs": [],
   "source": [
    "# selecting fields\n",
    "input_field = driver.find_element(By.ID, 'humanize-content')\n",
    "captcha_field = driver.find_element(By.ID, \"humanize-txtCompare\")\n",
    "submit_button = driver.find_element(By.ID, \"humanize-submit\")\n",
    "\n",
    "# filling captcha \n",
    "captcha = driver.find_element(By.ID, \"humanize-iamcaptcha\").text\n",
    "captcha_field.send_keys(f\"{captcha}\")\n",
    "\n",
    "# Enter text into the input field\n",
    "input_field.send_keys(\"Selenium Web Scraping\")\n",
    "\n",
    "# submiting result\n",
    "submit_button.click()\n",
    "\n",
    "#copy text\n",
    "copy_button = WebDriverWait(driver, 10).until(\n",
    "    EC.element_to_be_clickable((By.ID, \"copy_text_btn\"))\n",
    ")\n",
    "\n",
    "copy_button.click()\n",
    "\n",
    "# returning to start\n",
    "driver.get(\"https://aitextconverter.com/\")"
   ]
  },
  {
   "cell_type": "code",
   "execution_count": null,
   "metadata": {},
   "outputs": [],
   "source": [
    "\n"
   ]
  }
 ],
 "metadata": {
  "kernelspec": {
   "display_name": "base",
   "language": "python",
   "name": "python3"
  },
  "language_info": {
   "codemirror_mode": {
    "name": "ipython",
    "version": 3
   },
   "file_extension": ".py",
   "mimetype": "text/x-python",
   "name": "python",
   "nbconvert_exporter": "python",
   "pygments_lexer": "ipython3",
   "version": "3.12.4"
  }
 },
 "nbformat": 4,
 "nbformat_minor": 2
}
